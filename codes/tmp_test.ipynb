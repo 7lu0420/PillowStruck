{
 "cells": [
  {
   "cell_type": "code",
   "execution_count": 5,
   "metadata": {},
   "outputs": [
    {
     "name": "stdout",
     "output_type": "stream",
     "text": [
      "Uptown Funk (feat. Bruno Mars)\n",
      "Uptown Funk (feat. Bruno Mars)\n",
      "Uptown Funk (feat. Bruno Mars)\n",
      "Uptown Funk (Mixed)\n",
      "Uptown Funk! Parody\n",
      "Uptown Funk\n",
      "Distração\n",
      "Uptown Funk\n",
      "Uptown Funk - From The 2015 iHeartRadio Country Festival\n",
      "I'm a Manchild\n",
      "Buckshot (Mark Ronson - Uptown Funk ft. Bruno Mars PARODY)\n",
      "Bruno Hovart feat. Uptown Funk Empire\n"
     ]
    }
   ],
   "source": [
    "import requests\n",
    "import http.cookiejar as cj\n",
    "headers={\n",
    "          'accept': 'text/html,application/xhtml+xml,application/xml;q=0.9,image/avif,image/webp,image/apng,*/*;q=0.8,application/signed-exchange;v=b3;q=0.9',\n",
    "          'user-agent': 'Mozilla/5.0 (Macintosh; Intel Mac OS X 10_15_7) AppleWebKit/537.36 (KHTML, like Gecko) Chrome/109.0.0.0 Safari/537.36'\n",
    "        }\n",
    "s = requests.Session()\n",
    "req = s.get('https://www.musixmatch.com/search/uptown%20funk%20bruno',headers=headers) # 不过需要注意，就算使用了会话，方法级别的参数也不会被跨请求保持,此cookie只发送给该请求\n",
    "from bs4 import BeautifulSoup\n",
    "soup = BeautifulSoup(req.text)\n",
    "h2s = soup.find_all('h2',attrs={'class':\"media-card-title\"})\n",
    "for h2 in h2s:\n",
    "  print(h2.string)\n"
   ]
  },
  {
   "cell_type": "code",
   "execution_count": 1,
   "metadata": {},
   "outputs": [
    {
     "name": "stdout",
     "output_type": "stream",
     "text": [
      "[['Sia', 'Chandelier'], ['David-Bowie', 'Space-oddity']]\n",
      "['Sia', 'Chandelier']\n",
      "Party girls don′t get hurt\n",
      "Can't feel anything, when will I learn?\n",
      "I push it down, I push it down\n",
      "\n",
      "I′m the one for a \"good time call\"\n",
      "Phone's blowin' up, ringin′ my doorbell\n",
      "I feel the love, feel the love\n",
      "\n",
      "One, two, three, one, two, three, drink\n",
      "One, two, three, one, two, three, drink\n",
      "One, two, three, one, two, three, drink\n",
      "Throw ′em back 'til I lose count\n",
      "\n",
      "I′m gonna swing from the chandelier\n",
      "\n",
      "From the chandelier\n",
      "I'm gonna live like tomorrow doesn′t exist\n",
      "\n",
      "Like it doesn't exist\n",
      "I′m gonna fly like a bird through the night\n",
      "\n",
      "Feel my tears as they dry\n",
      "I'm gonna swing from the chandelier\n",
      "\n",
      "From the chandelier\n",
      "\n",
      "But I'm holding on for dear life\n",
      "Won′t look down, won′t open my eyes\n",
      "Keep my glass full until morning light\n",
      "'Cause I′m just holding on for tonight\n",
      "\n",
      "Help me, I'm holding on for dear life\n",
      "Won′t look down, won't open my eyes\n",
      "Keep my glass full until morning light\n",
      "′Cause I'm just holding on for tonight\n",
      "On for tonight\n",
      "\n",
      "Sun is up, I'm a mess\n",
      "Gotta get out now, gotta run from this\n",
      "Here comes the shame, here comes the shame (ah)\n",
      "\n",
      "One, two, three, one, two, three, drink\n",
      "One, two, three, one, two, three, drink\n",
      "One, two, three, one, two, three, drink\n",
      "Throw ′em back ′til I lose count\n",
      "\n",
      "I'm gonna swing from the chandelier\n",
      "\n",
      "From the chandelier\n",
      "I′m gonna live like tomorrow doesn't exist\n",
      "\n",
      "Like it doesn′t exist\n",
      "I'm gonna fly like a bird through the night\n",
      "\n",
      "Feel my tears as they dry\n",
      "I′m gonna swing from the chandelier\n",
      "\n",
      "From the chandelier\n",
      "\n",
      "But I'm holding on for dear life\n",
      "Won't look down, won′t open my eyes\n",
      "Keep my glass full until morning light\n",
      "′Cause I'm just holding on for tonight\n",
      "\n",
      "Help me, I′m holding on for dear life\n",
      "Won't look down, won′t open my eyes\n",
      "Keep my glass full until morning light\n",
      "'Cause I′m just holding on for tonight\n",
      "On for tonight, on for tonight\n",
      "\n",
      "'Cause I'm just holding on for tonight\n",
      "Oh, I′m just holding on for tonight\n",
      "On for tonight, on for tonight\n",
      "′Cause I'm just holding on for tonight\n",
      "′Cause I'm just holding on for tonight\n",
      "Oh, I′m just holding on for tonight\n",
      "On for tonight, on for tonight\n",
      "['David-Bowie', 'Space-oddity']\n"
     ]
    }
   ],
   "source": [
    "from transformers import pipeline\n",
    "from lyrics import *\n",
    "from transformers import AutoTokenizer, AutoModelForSequenceClassification\n",
    "import pandas as pd\n",
    "model_name = \"cardiffnlp/twitter-roberta-base-sentiment-latest\"\n",
    "model = AutoModelForSequenceClassification.from_pretrained(model_name)\n",
    "tokenizer = AutoTokenizer.from_pretrained(model_name)\n",
    "\n",
    "def sentiment_analysis(q):\n",
    "    a = Lyrics()\n",
    "    a.get_lyrics(q)\n",
    "    \n",
    "    with open(f'{q[0][0]}_{q[0][1]}.txt') as f:\n",
    "        raw_data = f.read().splitlines()\n",
    "        raw_data = [i for i in raw_data if i != '']\n",
    "    classifier = pipeline(\"sentiment-analysis\", model=model, tokenizer=tokenizer)\n",
    "    rsts = classifier(raw_data)\n",
    "    print(rsts)\n",
    "    scores = pd.DataFrame()\n",
    "    for rst_index in range(len(rsts)):\n",
    "        if rsts[rst_index]['label']=='positive':\n",
    "            score_nl = pd.DataFrame(data={'line':[raw_data[rst_index]],'score':[rsts[rst_index]['score']]})\n",
    "        elif rsts[rst_index]['label']=='negative':\n",
    "            score_nl = pd.DataFrame(data={'line':[raw_data[rst_index]],'score':[-rsts[rst_index]['score']]})\n",
    "        else :\n",
    "            score_nl = pd.DataFrame(data={'line':[raw_data[rst_index]],'score':[0]})\n",
    "        scores = pd.concat([scores, score_nl], ignore_index=True)\n",
    "    return scores\n",
    "\n",
    "q_a = [['Sia','Chandelier']]\n",
    "q_b = [['The-Smiths','Girlfriend-in-a-coma']]\n",
    "q_c = [['robyn','call-your-girlfriend']]\n",
    "q_d = [['Mark-Ronson-feat-Bruno-Mars','Uptown-Funk-1']]\n",
    "\n",
    "d_score = sentiment_analysis(q_d) \n",
    "# b_score = sentiment_analysis(q_b) \n",
    "print(d_score['score'].sum()/len(d_score['score']))\n",
    "\n",
    "print(d_score)\n"
   ]
  },
  {
   "cell_type": "code",
   "execution_count": 3,
   "metadata": {},
   "outputs": [
    {
     "data": {
      "text/plain": [
       "0.3174865819989231"
      ]
     },
     "execution_count": 3,
     "metadata": {},
     "output_type": "execute_result"
    }
   ],
   "source": [
    "import random\n",
    "random.uniform(0.8, 0.2)"
   ]
  },
  {
   "cell_type": "code",
   "execution_count": null,
   "metadata": {},
   "outputs": [],
   "source": []
  }
 ],
 "metadata": {
  "kernelspec": {
   "display_name": "Python 3.9.12 ('base')",
   "language": "python",
   "name": "python3"
  },
  "language_info": {
   "codemirror_mode": {
    "name": "ipython",
    "version": 3
   },
   "file_extension": ".py",
   "mimetype": "text/x-python",
   "name": "python",
   "nbconvert_exporter": "python",
   "pygments_lexer": "ipython3",
   "version": "3.9.12"
  },
  "orig_nbformat": 4,
  "vscode": {
   "interpreter": {
    "hash": "bf8deac87c05a71a0573c06e4f81cc468d2ce4c41fc413c538c1ad834d4a6dbc"
   }
  }
 },
 "nbformat": 4,
 "nbformat_minor": 2
}
