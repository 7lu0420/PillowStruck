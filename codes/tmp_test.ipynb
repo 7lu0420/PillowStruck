{
 "cells": [
  {
   "cell_type": "code",
   "execution_count": null,
   "metadata": {},
   "outputs": [],
   "source": [
    "from lyrics_struck import *\n",
    "qs=['yellow%20coldplay','deathcamp']\n",
    "s = LyricsStruck(qs)\n",
    "s.word_cloud()\n",
    "a, b = s.sentiment_analysis()\n",
    "print(a, b)"
   ]
  },
  {
   "cell_type": "code",
   "execution_count": null,
   "metadata": {},
   "outputs": [],
   "source": []
  }
 ],
 "metadata": {
  "kernelspec": {
   "display_name": "Python 3.9.12 ('base')",
   "language": "python",
   "name": "python3"
  },
  "language_info": {
   "codemirror_mode": {
    "name": "ipython",
    "version": 3
   },
   "file_extension": ".py",
   "mimetype": "text/x-python",
   "name": "python",
   "nbconvert_exporter": "python",
   "pygments_lexer": "ipython3",
   "version": "3.9.12"
  },
  "orig_nbformat": 4,
  "vscode": {
   "interpreter": {
    "hash": "bf8deac87c05a71a0573c06e4f81cc468d2ce4c41fc413c538c1ad834d4a6dbc"
   }
  }
 },
 "nbformat": 4,
 "nbformat_minor": 2
}
